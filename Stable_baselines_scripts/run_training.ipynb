{
 "cells": [
  {
   "cell_type": "code",
   "execution_count": 1,
   "metadata": {},
   "outputs": [
    {
     "name": "stderr",
     "output_type": "stream",
     "text": [
      "INFO:numexpr.utils:NumExpr defaulting to 8 threads.\n"
     ]
    }
   ],
   "source": [
    "from env_interface import make_env, make_model, train_model\n",
    "from datetime import datetime"
   ]
  },
  {
   "cell_type": "code",
   "execution_count": 2,
   "metadata": {},
   "outputs": [
    {
     "name": "stderr",
     "output_type": "stream",
     "text": [
      "INFO:mlagents_envs:Connected new brain:\n",
      "RollerBallBrain?team=0\n",
      "INFO:gym_unity:1 agents within environment.\n",
      "c:\\Users\\sirir\\anaconda3\\envs\\mlagents\\lib\\site-packages\\gym\\logger.py:34: UserWarning: \u001b[33mWARN: Box bound precision lowered by casting to float32\u001b[0m\n",
      "  warnings.warn(colorize(\"%s: %s\" % (\"WARN\", msg % args), \"yellow\"))\n"
     ]
    },
    {
     "name": "stdout",
     "output_type": "stream",
     "text": [
      "Using cpu device\n",
      "Wrapping the env in a DummyVecEnv.\n",
      "Wrapping the env in a VecTransposeImage.\n",
      "-------------------------------------\n",
      "| rollout/              |           |\n",
      "|    ep_len_mean        | 58.5      |\n",
      "|    ep_rew_mean        | -0.585    |\n",
      "| time/                 |           |\n",
      "|    fps                | 9         |\n",
      "|    iterations         | 100       |\n",
      "|    time_elapsed       | 50        |\n",
      "|    total_timesteps    | 500       |\n",
      "| train/                |           |\n",
      "|    entropy_loss       | -2.84     |\n",
      "|    explained_variance | -1.19e-07 |\n",
      "|    learning_rate      | 0.0007    |\n",
      "|    n_updates          | 99        |\n",
      "|    policy_loss        | -0.055    |\n",
      "|    std                | 1         |\n",
      "|    value_loss         | 0.000285  |\n",
      "-------------------------------------\n",
      "------------------------------------\n",
      "| rollout/              |          |\n",
      "|    ep_len_mean        | 52.1     |\n",
      "|    ep_rew_mean        | -0.521   |\n",
      "| time/                 |          |\n",
      "|    fps                | 9        |\n",
      "|    iterations         | 200      |\n",
      "|    time_elapsed       | 101      |\n",
      "|    total_timesteps    | 1000     |\n",
      "| train/                |          |\n",
      "|    entropy_loss       | -2.81    |\n",
      "|    explained_variance | 0        |\n",
      "|    learning_rate      | 0.0007   |\n",
      "|    n_updates          | 199      |\n",
      "|    policy_loss        | -0.0528  |\n",
      "|    std                | 0.988    |\n",
      "|    value_loss         | 0.000466 |\n",
      "------------------------------------\n",
      "Episode mean reward: -0.507 \t mean length: 50.667\n"
     ]
    },
    {
     "name": "stderr",
     "output_type": "stream",
     "text": [
      "INFO:mlagents_envs:Environment shut down with return code 0 (CTRL_C_EVENT).\n"
     ]
    }
   ],
   "source": [
    "run_id = datetime.now().strftime(\"%d%m%Y_%H%M%S\")  # Unique identifier for this training run\n",
    "\n",
    "env_file = \"C:/Users/sirir/Desktop/University/Master/Semester_3/Data_Science_Semester_Project/Unity_projects/RollerBall_Playground/Builds_stable_baselines/RollerBall_Playground\"\n",
    "log_dir = \"./logs/{}/\".format(run_id)\n",
    "model_dir = \"./models/{}/\".format(run_id)\n",
    "\n",
    "env = make_env(env_file, log_dir, no_graphics=False)\n",
    "try:\n",
    "    model = make_model(env)\n",
    "    train_model(model, env, model_dir=model_dir)\n",
    "finally:\n",
    "    env.close()"
   ]
  },
  {
   "cell_type": "code",
   "execution_count": null,
   "metadata": {},
   "outputs": [],
   "source": []
  }
 ],
 "metadata": {
  "kernelspec": {
   "display_name": "Python 3.7.13 ('mlagents')",
   "language": "python",
   "name": "python3"
  },
  "language_info": {
   "codemirror_mode": {
    "name": "ipython",
    "version": 3
   },
   "file_extension": ".py",
   "mimetype": "text/x-python",
   "name": "python",
   "nbconvert_exporter": "python",
   "pygments_lexer": "ipython3",
   "version": "3.7.13"
  },
  "orig_nbformat": 4,
  "vscode": {
   "interpreter": {
    "hash": "89b70b277734b03c7e7e5ea99f1d8839931cbf5af33c2c8e4f8543d4e9e238a6"
   }
  }
 },
 "nbformat": 4,
 "nbformat_minor": 2
}
