{
 "cells": [
  {
   "cell_type": "code",
   "execution_count": 1,
   "metadata": {},
   "outputs": [],
   "source": [
    "from env_interface import make_env, make_model, train_model, load_model, run_model, visualize_obs\n",
    "from callbacks import RolloutCheckCallback\n",
    "from datetime import datetime\n",
    "from stable_baselines3 import A2C, SAC, PPO\n",
    "from stable_baselines3.common.policies import ActorCriticCnnPolicy\n",
    "from stable_baselines3.sac.policies import CnnPolicy\n",
    "%matplotlib inline\n",
    "\n",
    "device = 'cuda'  # Doesn't work, it still trains on CPU\n",
    "\n",
    "models_folder = \"trained_models\"\n",
    "build_folder = \"Builds_stable_baselines\"\n",
    "env_file = \"C:/Users/sirir/Desktop/University/Master/Semester_3/Data_Science_Semester_Project/Unity_projects/RollerBall_Playground/{}/RollerBall_Playground\".format(build_folder)\n",
    "\n",
    "run_id = datetime.now().strftime(\"%d%m%Y_%H%M%S\")  # Unique identifier for this training run\n",
    "training_log_dir = \"./{}/training_logs/{}/\".format(models_folder, run_id)\n",
    "eval_log_dir = \"./{}/eval_logs/{}/\".format(models_folder, run_id)\n",
    "env_log_dir = \"./{}/logs/{}/\".format(models_folder, run_id)\n",
    "model_dir = \"./{}/models/{}/\".format(models_folder, run_id)\n",
    "\n",
    "callback = None  #RolloutCheckCallback()\n",
    "\n",
    "common_init_params = {\n",
    "    \"tensorboard_log\": training_log_dir,\n",
    "    \"device\": device,\n",
    "    \"verbose\": 1,\n",
    "#    \"use_sde\": True,\n",
    "#    \"sde_sample_freq\": 3,\n",
    "}\n",
    "common_train_params = {\n",
    "    \"callback\": callback,\n",
    "    \"log_interval\": 1000,\n",
    "#    \"progress_bar\": True,  # Not recognized apparently\n",
    "}\n",
    "\n",
    "models = {\n",
    "    \"A2C\": {\n",
    "        \"class\": A2C,\n",
    "        \"policy\": ActorCriticCnnPolicy,\n",
    "        \"init_params\": {\n",
    "            \"learning_rate\": 0.001,\n",
    "            \"n_steps\" : 64,\n",
    "            **common_init_params\n",
    "        },\n",
    "        \"train_params\": {\n",
    "            \"total_timesteps\": 10000,\n",
    "            **common_train_params\n",
    "        }\n",
    "    },\n",
    "    \"PPO\": {\n",
    "        \"class\": PPO,\n",
    "        \"policy\": ActorCriticCnnPolicy,\n",
    "        \"init_params\": {\n",
    "            \"learning_rate\": 3.0e-4,\n",
    "            \"n_steps\": 256,  # Is this the horizon in mlagents?\n",
    "            \"n_epochs\": 3,\n",
    "            \"batch_size\": 16,\n",
    "            \"gamma\": 0.99,\n",
    "            \"ent_coef\": 5.0e-3,\n",
    "            \"gae_lambda\": 0.95,\n",
    "            **common_init_params\n",
    "        },\n",
    "        \"train_params\": {\n",
    "            \"total_timesteps\": 20000,\n",
    "            **common_train_params\n",
    "        }\n",
    "    },\n",
    "    \"SAC\": {\n",
    "        \"class\": SAC,\n",
    "        \"policy\": CnnPolicy,\n",
    "        \"init_params\": {\n",
    "            \"learning_rate\": 0.0001,\n",
    "            **common_init_params\n",
    "        },\n",
    "        \"train_params\": {\n",
    "            \"total_timesteps\": 10000,\n",
    "            **common_train_params\n",
    "        }\n",
    "    },\n",
    "    \"PPO_test\": {\n",
    "        \"class\": PPO,\n",
    "        \"policy\": ActorCriticCnnPolicy,\n",
    "        \"init_params\": {\n",
    "            \"learning_rate\": 0.01,\n",
    "            \"n_steps\": 5,\n",
    "            \"n_epochs\": 3,\n",
    "            \"batch_size\": 16,\n",
    "            **common_init_params\n",
    "        },\n",
    "        \"train_params\": {\n",
    "            \"total_timesteps\": 150,\n",
    "            **common_train_params\n",
    "        }\n",
    "    }\n",
    "}"
   ]
  },
  {
   "cell_type": "code",
   "execution_count": 2,
   "metadata": {},
   "outputs": [
    {
     "name": "stderr",
     "output_type": "stream",
     "text": [
      "INFO:mlagents_envs:Connected new brain:\n",
      "RollerBallBrain?team=0\n",
      "INFO:gym_unity:1 agents within environment.\n",
      "c:\\Users\\sirir\\anaconda3\\envs\\dsproject\\lib\\site-packages\\gym\\spaces\\box.py:74: UserWarning: \u001b[33mWARN: Box bound precision lowered by casting to float32\u001b[0m\n",
      "  \"Box bound precision lowered by casting to {}\".format(self.dtype)\n"
     ]
    },
    {
     "name": "stdout",
     "output_type": "stream",
     "text": [
      "Using cpu device\n",
      "Wrapping the env in a DummyVecEnv.\n",
      "Wrapping the env in a VecTransposeImage.\n",
      "Logging to ./trained_models/training_logs/28112022_153332/PPO_1\n"
     ]
    },
    {
     "name": "stderr",
     "output_type": "stream",
     "text": [
      "INFO:mlagents_envs:Environment shut down with return code 0 (CTRL_C_EVENT).\n"
     ]
    }
   ],
   "source": [
    "model_params = models[\"PPO\"]\n",
    "\n",
    "env = make_env(env_file, env_log_dir, no_graphics=False)\n",
    "try:\n",
    "    model = make_model(env, model_params[\"class\"], model_params[\"policy\"], model_params[\"init_params\"])\n",
    "    train_model(model, env, model_params[\"train_params\"], model_dir, eval_log_dir, episodes=-1)\n",
    "finally:\n",
    "    env.close()"
   ]
  },
  {
   "cell_type": "code",
   "execution_count": 3,
   "metadata": {},
   "outputs": [
    {
     "name": "stderr",
     "output_type": "stream",
     "text": [
      "INFO:mlagents_envs:Connected new brain:\n",
      "RollerBallBrain?team=0\n",
      "INFO:gym_unity:1 agents within environment.\n",
      "c:\\Users\\sirir\\anaconda3\\envs\\dsproject\\lib\\site-packages\\gym\\spaces\\box.py:74: UserWarning: \u001b[33mWARN: Box bound precision lowered by casting to float32\u001b[0m\n",
      "  \"Box bound precision lowered by casting to {}\".format(self.dtype)\n"
     ]
    },
    {
     "name": "stdout",
     "output_type": "stream",
     "text": [
      "Wrapping the env in a DummyVecEnv.\n",
      "Wrapping the env in a VecTransposeImage.\n"
     ]
    },
    {
     "name": "stderr",
     "output_type": "stream",
     "text": [
      "INFO:mlagents_envs:Environment shut down with return code 0 (CTRL_C_EVENT).\n"
     ]
    }
   ],
   "source": [
    "env = make_env(env_file, env_log_dir, no_graphics=False)  # Visualise result\n",
    "try:\n",
    "    env.reset()\n",
    "    model = load_model(model_dir, env, model_params[\"class\"])\n",
    "    run_model(env, model, n_steps=300)\n",
    "finally:\n",
    "    env.close()"
   ]
  },
  {
   "cell_type": "code",
   "execution_count": 6,
   "metadata": {},
   "outputs": [
    {
     "name": "stdout",
     "output_type": "stream",
     "text": [
      "The tensorboard extension is already loaded. To reload it, use:\n",
      "  %reload_ext tensorboard\n"
     ]
    }
   ],
   "source": [
    "import tensorflow as tf\n",
    "import datetime, os\n",
    "%load_ext tensorboard\n",
    "\n",
    "#print(training_log_dir)"
   ]
  },
  {
   "cell_type": "code",
   "execution_count": 8,
   "metadata": {},
   "outputs": [
    {
     "data": {
      "text/plain": [
       "Reusing TensorBoard on port 6006 (pid 5340), started 0:11:40 ago. (Use '!kill 5340' to kill it.)"
      ]
     },
     "metadata": {},
     "output_type": "display_data"
    },
    {
     "data": {
      "text/html": [
       "\n",
       "      <iframe id=\"tensorboard-frame-b14aa81bfb9fc8e6\" width=\"100%\" height=\"800\" frameborder=\"0\">\n",
       "      </iframe>\n",
       "      <script>\n",
       "        (function() {\n",
       "          const frame = document.getElementById(\"tensorboard-frame-b14aa81bfb9fc8e6\");\n",
       "          const url = new URL(\"http://localhost\");\n",
       "          const port = 6006;\n",
       "          if (port) {\n",
       "            url.port = port;\n",
       "          }\n",
       "          frame.src = url;\n",
       "        })();\n",
       "      </script>\n",
       "    "
      ],
      "text/plain": [
       "<IPython.core.display.HTML object>"
      ]
     },
     "metadata": {},
     "output_type": "display_data"
    }
   ],
   "source": [
    "%tensorboard --logdir ./trained_models/training_logs/28112022_153332/"
   ]
  },
  {
   "cell_type": "markdown",
   "metadata": {},
   "source": [
    "# Sandbox"
   ]
  },
  {
   "cell_type": "code",
   "execution_count": 5,
   "metadata": {},
   "outputs": [
    {
     "data": {
      "image/png": "[encoded data removed]",
      "text/plain": [
       "<Figure size 3000x300 with 10 Axes>"
      ]
     },
     "metadata": {},
     "output_type": "display_data"
    }
   ],
   "source": [
    "#import numpy as np\n",
    "#import matplotlib.pyplot as plt\n",
    "'''print(np.min(callback.rewards), np.max(callback.rewards))\n",
    "for reward in np.concatenate(callback.rewards)[np.concatenate(callback.dones)]:  # The rewards obtained when the agent is done is always -0.01! That's wrong but how come this happens??\n",
    "    print(reward)'''\n",
    "#callback.rollout_buffers[callback.dones]\n",
    "'''print(callback.total_timesteps_of_model)\n",
    "print(callback.n_steps_of_model)\n",
    "print(callback.n_rollout_steps)\n",
    "print(callback.n_steps_vals_at_rollout_end)\n",
    "print(callback.num_timesteps_at_training_start)\n",
    "print(callback.num_timesteps_at_training_end)\n",
    "fig, ax = plt.subplots(figsize=(16, 4), ncols=4)\n",
    "ax[0].plot(callback.obs_min)\n",
    "ax[0].set_title(\"Min value of observation\")\n",
    "ax[1].plot(callback.obs_max)\n",
    "ax[1].set_title(\"Max value of observation\")\n",
    "ax[2].plot(callback.rewards)\n",
    "ax[2].set_title(\"Reward obtained\")\n",
    "ax[3].scatter(np.concatenate(callback.actions)[:, 0], np.concatenate(callback.actions)[:, 1], label=\"Actions\")\n",
    "ax[3].scatter(np.concatenate(callback.clipped_actions)[:, 0], np.concatenate(callback.clipped_actions)[:, 1], label=\"Clipped actions\")\n",
    "ax[3].legend()\n",
    "ax[3].set_title(\"Actions and clipped actions\")\n",
    "\n",
    "plt.show()'''\n",
    "\n",
    "'''n_obs = len(callback.obs[:10])\n",
    "fig, ax = plt.subplots(figsize=(3*n_obs, 3), ncols=n_obs)\n",
    "for i, obs in enumerate(callback.obs[:10]):\n",
    "    ax.item(i).imshow(obs[0, 0])\n",
    "plt.show()'''"
   ]
  },
  {
   "cell_type": "code",
   "execution_count": null,
   "metadata": {},
   "outputs": [],
   "source": []
  }
 ],
 "metadata": {
  "kernelspec": {
   "display_name": "Python 3.7.15 ('dsproject')",
   "language": "python",
   "name": "python3"
  },
  "language_info": {
   "codemirror_mode": {
    "name": "ipython",
    "version": 3
   },
   "file_extension": ".py",
   "mimetype": "text/x-python",
   "name": "python",
   "nbconvert_exporter": "python",
   "pygments_lexer": "ipython3",
   "version": "3.7.15"
  },
  "orig_nbformat": 4,
  "vscode": {
   "interpreter": {
    "hash": "69b714793d0ad3d9f61afa33cda1ad1d667ea932778b5184db2bed2dd394c3f5"
   }
  }
 },
 "nbformat": 4,
 "nbformat_minor": 2
}
