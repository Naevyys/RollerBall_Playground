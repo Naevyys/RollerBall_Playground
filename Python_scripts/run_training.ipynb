{
 "cells": [
  {
   "cell_type": "code",
   "execution_count": 1,
   "metadata": {},
   "outputs": [],
   "source": [
    "from trainer import Trainer"
   ]
  },
  {
   "cell_type": "code",
   "execution_count": 2,
   "metadata": {},
   "outputs": [],
   "source": [
    "env_file = b\"C:\\Users\\sirir\\Desktop\\University\\Master\\Semester_3\\Data_Science_Semester_Project\\Unity_projects\\RollerBall_Playground\\Builds\\RollerBall_Playground.exe\".decode(\"utf-8\")"
   ]
  },
  {
   "cell_type": "code",
   "execution_count": 3,
   "metadata": {},
   "outputs": [
    {
     "name": "stderr",
     "output_type": "stream",
     "text": [
      "INFO:mlagents_envs:Connected new brain:\n",
      "RollerBallBrain?team=0\n",
      "c:\\Users\\sirir\\anaconda3\\envs\\mlagents\\lib\\site-packages\\torch\\nn\\functional.py:1949: UserWarning: nn.functional.tanh is deprecated. Use torch.tanh instead.\n",
      "  warnings.warn(\"nn.functional.tanh is deprecated. Use torch.tanh instead.\")\n",
      "c:\\Users\\sirir\\anaconda3\\envs\\mlagents\\lib\\site-packages\\torch\\nn\\functional.py:1960: UserWarning: nn.functional.sigmoid is deprecated. Use torch.sigmoid instead.\n",
      "  warnings.warn(\"nn.functional.sigmoid is deprecated. Use torch.sigmoid instead.\")\n",
      "c:\\Users\\sirir\\Desktop\\University\\Master\\Semester_3\\Data_Science_Semester_Project\\Unity_projects\\RollerBall_Playground\\Python_scripts\\cnn.py:33: UserWarning: Implicit dimension choice for softmax has been deprecated. Change the call to include dim=X as an argument.\n",
      "  out[0, self.softmax_pos] = softmax(input[0, self.softmax_pos])\n"
     ]
    },
    {
     "name": "stdout",
     "output_type": "stream",
     "text": [
      "[[ 0.47746584 -0.07550162]]\n",
      "[[ 0.47354808 -0.09544773]]\n",
      "[[ 0.47272813 -0.10192862]]\n",
      "[[ 0.47275892 -0.10122572]]\n",
      "[[ 0.4728054  -0.10110381]]\n",
      "[[ 0.47281882 -0.10077301]]\n",
      "[[ 0.47289976 -0.10053893]]\n",
      "[[ 0.47304863 -0.10111637]]\n",
      "[[ 0.4730394  -0.10138649]]\n",
      "[[ 0.4729916  -0.10112627]]\n",
      "[[ 0.4729576  -0.10030057]]\n",
      "[[ 0.47297686 -0.09937172]]\n",
      "[[ 0.47297046 -0.09904025]]\n",
      "[[ 0.47290385 -0.09889677]]\n",
      "[[ 0.4729149  -0.09869269]]\n",
      "[[ 0.47297165 -0.09844996]]\n",
      "[[ 0.4729629  -0.09859101]]\n",
      "[[ 0.47295424 -0.09836182]]\n",
      "[[ 0.47301838 -0.09820303]]\n",
      "[[ 0.47319555 -0.09815854]]\n",
      "[[ 0.47329012 -0.09799566]]\n",
      "[[ 0.47326452 -0.09801856]]\n",
      "[[ 0.4732949  -0.09794599]]\n",
      "[[ 0.47329134 -0.09765138]]\n",
      "[[ 0.4732334  -0.09750719]]\n",
      "[[ 0.47314578 -0.09797615]]\n",
      "[[ 0.47331172 -0.09896602]]\n",
      "[[ 0.47342157 -0.09977574]]\n",
      "[[ 0.4734344  -0.09909268]]\n",
      "[[ 0.47335777 -0.09875538]]\n",
      "[[ 0.4733518  -0.09756167]]\n",
      "[[ 0.4734783  -0.09734993]]\n",
      "[[ 0.4734575  -0.09724652]]\n",
      "[[ 0.47344935 -0.09693988]]\n",
      "[[ 0.47339374 -0.09679442]]\n",
      "[[ 0.4733338  -0.09700081]]\n",
      "[[ 0.47333482 -0.09708127]]\n",
      "[[ 0.47331023 -0.09733045]]\n",
      "[[ 0.47331354 -0.09749832]]\n",
      "[[ 0.47335693 -0.09719303]]\n",
      "[[ 0.4732814  -0.09719695]]\n",
      "[[ 0.4732233  -0.09724762]]\n",
      "[[ 0.47324732 -0.09785001]]\n",
      "[[ 0.4732655  -0.09754818]]\n",
      "[[ 0.4732312  -0.09706675]]\n",
      "[[ 0.473232   -0.09714274]]\n",
      "[[ 0.4732735 -0.0972263]]\n",
      "[[ 0.4732527  -0.09754539]]\n",
      "[[ 0.47323728 -0.09754688]]\n",
      "[[ 0.4733028  -0.09719288]]\n",
      "[[ 0.47330105 -0.09719652]]\n",
      "[[ 0.4733293  -0.09686693]]\n",
      "[[ 0.4733675  -0.09687012]]\n",
      "[[ 0.47344038 -0.09673394]]\n",
      "[[ 0.47343484 -0.09685776]]\n",
      "[[ 0.47336873 -0.0963522 ]]\n",
      "[[ 0.47336772 -0.09642237]]\n",
      "[[ 0.47343773 -0.09622948]]\n",
      "[[ 0.47346666 -0.09688941]]\n",
      "[[ 0.4735059  -0.09668191]]\n",
      "[[ 0.473494   -0.09657095]]\n",
      "[[ 0.47355393 -0.0963302 ]]\n",
      "[[ 0.4735076  -0.09672769]]\n",
      "[[ 0.47349083 -0.09682903]]\n",
      "[[ 0.4735674  -0.09689802]]\n",
      "[[ 0.47360054 -0.09702666]]\n",
      "[[ 0.4736129  -0.09749725]]\n",
      "[[ 0.4736109  -0.09733547]]\n",
      "[[ 0.473542   -0.09717233]]\n",
      "[[ 0.47351825 -0.09744307]]\n",
      "[[ 0.47367597 -0.09747019]]\n",
      "[[ 0.473603   -0.09744523]]\n",
      "[[ 0.4735583  -0.09750652]]\n",
      "[[ 0.473589   -0.09725916]]\n",
      "[[ 0.47366804 -0.09721654]]\n",
      "[[ 0.47368965 -0.09734838]]\n",
      "[[ 0.47374037 -0.09724457]]\n",
      "[[ 0.4736234  -0.09765264]]\n",
      "[[ 0.47359478 -0.09706727]]\n",
      "[[ 0.4735498  -0.09703134]]\n",
      "[[ 0.4735264  -0.09747221]]\n",
      "[[ 0.4735034  -0.09750502]]\n",
      "[[ 0.4734863  -0.09757293]]\n",
      "[[ 0.47346732 -0.09739893]]\n",
      "[[ 0.4733521  -0.09848155]]\n",
      "[[ 0.47344866 -0.09862497]]\n",
      "[[ 0.47357425 -0.09891286]]\n",
      "[[ 0.47350368 -0.09915654]]\n",
      "[[ 0.47351393 -0.09899845]]\n",
      "[[ 0.47347492 -0.09906959]]\n",
      "[[ 0.47354248 -0.09908899]]\n",
      "[[ 0.47353393 -0.09944033]]\n",
      "[[ 0.47355992 -0.09938207]]\n",
      "[[ 0.47333896 -0.09972699]]\n",
      "[[ 0.47337264 -0.09962674]]\n",
      "[[ 0.47338673 -0.0999361 ]]\n",
      "[[ 0.47337317 -0.10008144]]\n",
      "[[ 0.4734141  -0.09993824]]\n",
      "[[ 0.47340918 -0.10033537]]\n",
      "[[ 0.47336516 -0.10024914]]\n"
     ]
    },
    {
     "name": "stderr",
     "output_type": "stream",
     "text": [
      "INFO:mlagents_envs:Environment shut down with return code 0 (CTRL_C_EVENT).\n"
     ]
    }
   ],
   "source": [
    "trainer = Trainer(env_file)\n",
    "trainer.run_steps(100)"
   ]
  },
  {
   "cell_type": "code",
   "execution_count": null,
   "metadata": {},
   "outputs": [],
   "source": []
  }
 ],
 "metadata": {
  "kernelspec": {
   "display_name": "Python 3.7.13 ('mlagents')",
   "language": "python",
   "name": "python3"
  },
  "language_info": {
   "codemirror_mode": {
    "name": "ipython",
    "version": 3
   },
   "file_extension": ".py",
   "mimetype": "text/x-python",
   "name": "python",
   "nbconvert_exporter": "python",
   "pygments_lexer": "ipython3",
   "version": "3.7.13"
  },
  "orig_nbformat": 4,
  "vscode": {
   "interpreter": {
    "hash": "89b70b277734b03c7e7e5ea99f1d8839931cbf5af33c2c8e4f8543d4e9e238a6"
   }
  }
 },
 "nbformat": 4,
 "nbformat_minor": 2
}
