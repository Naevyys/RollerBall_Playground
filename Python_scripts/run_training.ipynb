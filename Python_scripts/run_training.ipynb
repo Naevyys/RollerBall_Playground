{
 "cells": [
  {
   "cell_type": "code",
   "execution_count": 1,
   "metadata": {},
   "outputs": [],
   "source": [
    "from trainer import Trainer"
   ]
  },
  {
   "cell_type": "code",
   "execution_count": 2,
   "metadata": {},
   "outputs": [],
   "source": [
    "env_file = b\"C:\\Users\\sirir\\Desktop\\University\\Master\\Semester_3\\Data_Science_Semester_Project\\Unity_projects\\RollerBall_Playground\\Builds\\RollerBall_Playground.exe\".decode(\"utf-8\")"
   ]
  },
  {
   "cell_type": "code",
   "execution_count": 3,
   "metadata": {},
   "outputs": [
    {
     "name": "stderr",
     "output_type": "stream",
     "text": [
      "INFO:mlagents_envs:Connected new brain:\n",
      "RollerBallBrain?team=0\n"
     ]
    },
    {
     "name": "stdout",
     "output_type": "stream",
     "text": [
      "[1.]\n",
      "[1.]\n",
      "[-0.01]\n",
      "[-0.01]\n",
      "[-0.01]\n",
      "[-0.01]\n",
      "[-0.01]\n",
      "[-0.01]\n",
      "[-0.01]\n",
      "[-0.01]\n",
      "[-0.01]\n",
      "[-0.01]\n",
      "[-0.01]\n",
      "[-0.01]\n",
      "[-0.01]\n",
      "[-0.01]\n",
      "[-0.01]\n",
      "[-0.01]\n",
      "[-0.01]\n",
      "[-0.01]\n",
      "[-0.01]\n",
      "[-0.01]\n",
      "[-0.01]\n",
      "[-0.01]\n",
      "[-0.01]\n",
      "[-0.01]\n",
      "[-0.01]\n",
      "[-0.01]\n",
      "[-0.01]\n",
      "[-0.01]\n",
      "[-0.01]\n",
      "[-0.01]\n",
      "[-0.01]\n",
      "[-0.01]\n",
      "[-0.01]\n",
      "[-0.01]\n",
      "[-0.01]\n",
      "[-0.01]\n",
      "[-0.01]\n",
      "[-0.01]\n",
      "[-0.01]\n",
      "[-0.01]\n",
      "[-0.01]\n",
      "[-0.01]\n",
      "[-0.01]\n",
      "[-0.01]\n",
      "[-0.01]\n",
      "[-0.01]\n",
      "[-0.01]\n",
      "[-0.01]\n",
      "[-0.01]\n",
      "[-0.01]\n",
      "[-0.01]\n",
      "[-0.01]\n",
      "[-0.01]\n",
      "[-0.01]\n",
      "[-0.01]\n",
      "[-0.01]\n",
      "[-0.01]\n",
      "[-0.01]\n",
      "[-0.01]\n",
      "[-0.01]\n",
      "[-0.01]\n",
      "[-0.01]\n",
      "[-0.01]\n",
      "[-0.01]\n",
      "[-0.01]\n",
      "[-0.01]\n",
      "[-0.01]\n",
      "[-0.01]\n",
      "[-0.01]\n",
      "[-0.01]\n",
      "[-0.01]\n",
      "[-0.01]\n",
      "[-0.01]\n",
      "[-0.01]\n",
      "[-0.01]\n",
      "[-0.01]\n",
      "[-0.01]\n",
      "[-0.01]\n",
      "[-0.01]\n",
      "[-0.01]\n",
      "[-0.01]\n",
      "[-0.01]\n",
      "[-0.01]\n",
      "[-0.01]\n",
      "[-0.01]\n",
      "[-0.01]\n",
      "[-0.01]\n",
      "[-0.01]\n",
      "[-0.01]\n",
      "[-0.01]\n",
      "[-0.01]\n",
      "[-0.01]\n",
      "[-0.01]\n",
      "[-0.01]\n",
      "[-0.01]\n",
      "[-0.01]\n",
      "[-0.01]\n",
      "[-0.01]\n"
     ]
    },
    {
     "name": "stderr",
     "output_type": "stream",
     "text": [
      "INFO:mlagents_envs:Environment shut down with return code 0 (CTRL_C_EVENT).\n"
     ]
    }
   ],
   "source": [
    "trainer = Trainer(env_file)\n",
    "trainer.run_steps(100)"
   ]
  },
  {
   "cell_type": "code",
   "execution_count": null,
   "metadata": {},
   "outputs": [],
   "source": []
  }
 ],
 "metadata": {
  "kernelspec": {
   "display_name": "Python 3.7.13 ('mlagents')",
   "language": "python",
   "name": "python3"
  },
  "language_info": {
   "codemirror_mode": {
    "name": "ipython",
    "version": 3
   },
   "file_extension": ".py",
   "mimetype": "text/x-python",
   "name": "python",
   "nbconvert_exporter": "python",
   "pygments_lexer": "ipython3",
   "version": "3.7.13"
  },
  "orig_nbformat": 4,
  "vscode": {
   "interpreter": {
    "hash": "89b70b277734b03c7e7e5ea99f1d8839931cbf5af33c2c8e4f8543d4e9e238a6"
   }
  }
 },
 "nbformat": 4,
 "nbformat_minor": 2
}
